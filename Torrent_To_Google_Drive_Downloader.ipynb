{
  "nbformat": 4,
  "nbformat_minor": 0,
  "metadata": {
    "colab": {
      "name": "Torrent To Google Drive Downloader",
      "version": "0.3.2",
      "provenance": [],
      "private_outputs": true,
      "collapsed_sections": [],
      "toc_visible": true
    },
    "kernelspec": {
      "name": "python3",
      "display_name": "Python 3"
    },
    "accelerator": "GPU"
  },
  "cells": [
    {
      "cell_type": "markdown",
      "metadata": {
        "id": "aQuWDmfm9YOi",
        "colab_type": "text"
      },
      "source": [
        "# Torrent To Google Drive Downloader "
      ]
    },
    {
      "cell_type": "markdown",
      "metadata": {
        "id": "Uf90U73y9YOj",
        "colab_type": "text"
      },
      "source": [
        "### Mount Google Drive\n",
        "To stream files we need to mount Google Drive."
      ]
    },
    {
      "cell_type": "code",
      "metadata": {
        "colab_type": "code",
        "id": "oWM9l2fvtuvO",
        "colab": {}
      },
      "source": [
        "from google.colab import drive\n",
        "drive.mount('/content/drive')"
      ],
      "execution_count": 0,
      "outputs": []
    },
    {
      "cell_type": "code",
      "metadata": {
        "id": "WbwHWK_dNtez",
        "colab_type": "code",
        "colab": {}
      },
      "source": [
        ""
      ],
      "execution_count": 0,
      "outputs": []
    },
    {
      "cell_type": "markdown",
      "metadata": {
        "id": "NaFa7M-e9YOr",
        "colab_type": "text"
      },
      "source": [
        "### Install libtorrent"
      ]
    },
    {
      "cell_type": "code",
      "metadata": {
        "colab_type": "code",
        "id": "m6hF0emftx4h",
        "colab": {}
      },
      "source": [
        "!apt install python3-libtorrent"
      ],
      "execution_count": 0,
      "outputs": []
    },
    {
      "cell_type": "markdown",
      "metadata": {
        "id": "m-a1CUP39YOu",
        "colab_type": "text"
      },
      "source": [
        "### Start Download(Magnet URI)\n"
      ]
    },
    {
      "cell_type": "code",
      "metadata": {
        "colab_type": "code",
        "id": "DBNoYYoSuDBT",
        "colab": {}
      },
      "source": [
        "import libtorrent as lt\n",
        "import time\n",
        "import sys\n",
        "\n",
        "ses = lt.session()\n",
        "ses.listen_on(6881, 6891)\n",
        "params = {\"save_path\": \"/content/drive/My Drive/Torrent\"}\n",
        "\n",
        "link = \"magnet:?xt=urn:btih:FB1A4E06DEE3A59B9A8751BDD43DBB06AE46E50D&dn=UFC+Fight+Night+155+720p+HDTV+x264-Daz%5BTGx%5D+%E2%AD%90&tr=udp%3A%2F%2Ftracker.coppersurfer.tk%3A6969%2Fannounce&tr=udp%3A%2F%2Ftracker.leechers-paradise.org%3A6969%2Fannounce&tr=udp%3A%2F%2Fbt.xxx-tracker.com%3A2710%2Fannounce&tr=udp%3A%2F%2Ftracker.internetwarriors.net%3A1337%2Fannounce&tr=udp%3A%2F%2Ftracker.openbittorrent.com%3A80%2Fannounce&tr=udp%3A%2F%2Fexplodie.org%3A6969%2Fannounce&tr=udp%3A%2F%2Ftracker.opentrackr.org%3A1337%2Fannounce&tr=udp%3A%2F%2Ftracker.tiny-vps.com%3A6969%2Fannounce&tr=udp%3A%2F%2Fopen.demonii.si%3A1337%2Fannounce&tr=udp%3A%2F%2Ftracker.torrent.eu.org%3A451%2Fannounce&tr=udp%3A%2F%2Ftracker.pirateparty.gr%3A6969%2Fannounce&tr=udp%3A%2F%2Fipv4.tracker.harry.lu%3A80%2Fannounce&tr=udp%3A%2F%2Ftracker.cyberia.is%3A6969%2Fannounce&tr=udp%3A%2F%2F9.rarbg.to%3A2710%2Fannounce&tr=udp%3A%2F%2Ftracker.zer0day.to%3A1337%2Fannounce&tr=udp%3A%2F%2Ftracker.leechers-paradise.org%3A6969%2Fannounce&tr=udp%3A%2F%2Fcoppersurfer.tk%3A6969%2Fannounce\"\n",
        "h = lt.add_magnet_uri(ses, link, params)\n",
        "print(\"starting\", h.name())\n",
        "\n",
        "while not h.is_seed():\n",
        "    s = h.status()\n",
        "\n",
        "    state_str = [\n",
        "        \"queued\",\n",
        "        \"checking\",\n",
        "        \"downloading metadata\",\n",
        "        \"downloading\",\n",
        "        \"finished\",\n",
        "        \"seeding\",\n",
        "        \"allocating\",\n",
        "        \"checking fastresume\",\n",
        "    ]\n",
        "    print(\n",
        "        \"\\r%.2f%% complete (down: %.1f kb/s up: %.1f kB/s peers: %d) %s\"\n",
        "        % (\n",
        "            s.progress * 100,\n",
        "            s.download_rate / 1000,\n",
        "            s.upload_rate / 1000,\n",
        "            s.num_peers,\n",
        "            state_str[s.state],\n",
        "        )\n",
        "    )\n",
        "    sys.stdout.flush()\n",
        "    time.sleep(1)\n",
        "\n",
        "print(h.name(), \"complete\")"
      ],
      "execution_count": 0,
      "outputs": []
    },
    {
      "cell_type": "markdown",
      "metadata": {
        "id": "nkSCQxSrWqRh",
        "colab_type": "text"
      },
      "source": [
        "# ----------------FINISH---------------"
      ]
    },
    {
      "cell_type": "markdown",
      "metadata": {
        "id": "R_1XuuIf9YOn",
        "colab_type": "text"
      },
      "source": [
        "###Continue If You have Torrent File\n",
        "### Upload Your Torrent File(IF TORRENT FILE )"
      ]
    },
    {
      "cell_type": "code",
      "metadata": {
        "colab_type": "code",
        "id": "0et2A6N3udA0",
        "colab": {}
      },
      "source": [
        "from google.colab import files\n",
        "uploaded = files.upload()"
      ],
      "execution_count": 0,
      "outputs": []
    },
    {
      "cell_type": "markdown",
      "metadata": {
        "colab_type": "text",
        "id": "2YLB1lMgXHSS"
      },
      "source": [
        "### Start Download\n",
        "Source: https://stackoverflow.com/a/5494823/7957705"
      ]
    },
    {
      "cell_type": "code",
      "metadata": {
        "colab_type": "code",
        "id": "jcRyIcmOXHST",
        "colab": {}
      },
      "source": [
        "import libtorrent as lt\n",
        "import time\n",
        "import sys\n",
        "\n",
        "ses = lt.session()\n",
        "ses.listen_on(6881, 6891)\n",
        "\n",
        "info = lt.torrent_info(list(uploaded.keys())[0])\n",
        "h = ses.add_torrent({\"ti\": info, \"save_path\": \"/content/drive/My Drive/Torrent\"})\n",
        "print(\"starting\", h.name())\n",
        "\n",
        "while not h.is_seed():\n",
        "    s = h.status()\n",
        "\n",
        "    state_str = [\n",
        "        \"queued\",\n",
        "        \"checking\",\n",
        "        \"downloading metadata\",\n",
        "        \"downloading\",\n",
        "        \"finished\",\n",
        "        \"seeding\",\n",
        "        \"allocating\",\n",
        "        \"checking fastresume\",\n",
        "    ]\n",
        "    print(\n",
        "        \"\\r%.2f%% complete (down: %.1f kb/s up: %.1f kB/s peers: %d) %s\"\n",
        "        % (\n",
        "            s.progress * 100,\n",
        "            s.download_rate / 1000,\n",
        "            s.upload_rate / 1000,\n",
        "            s.num_peers,\n",
        "            state_str[s.state],\n",
        "        )\n",
        "    )\n",
        "    sys.stdout.flush()\n",
        "    time.sleep(1)\n",
        "\n",
        "print(h.name(), \"complete\")"
      ],
      "execution_count": 0,
      "outputs": []
    }
  ]
}